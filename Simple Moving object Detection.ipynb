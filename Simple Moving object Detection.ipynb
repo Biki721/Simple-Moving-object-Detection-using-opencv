{
 "cells": [
  {
   "cell_type": "code",
   "execution_count": 15,
   "id": "eec03373",
   "metadata": {},
   "outputs": [],
   "source": [
    "import cv2\n",
    "import imutils"
   ]
  },
  {
   "cell_type": "code",
   "execution_count": 16,
   "id": "c4d7d4c1",
   "metadata": {},
   "outputs": [],
   "source": [
    "img = cv2.imread('Downloads/logo.png')"
   ]
  },
  {
   "cell_type": "markdown",
   "id": "d20eee85",
   "metadata": {},
   "source": [
    "# Resizing of image"
   ]
  },
  {
   "cell_type": "code",
   "execution_count": 17,
   "id": "995e435b",
   "metadata": {},
   "outputs": [],
   "source": [
    "resized_img = imutils.resize(img,width = 20)\n",
    "cv2.imshow(\"Resized Image\",resized_img)\n",
    "cv2.waitKey(0)\n",
    "cv2.destroyAllWindows()"
   ]
  },
  {
   "cell_type": "markdown",
   "id": "3593db77",
   "metadata": {},
   "source": [
    "# Image smoothing"
   ]
  },
  {
   "cell_type": "code",
   "execution_count": 18,
   "id": "27d06b84",
   "metadata": {},
   "outputs": [],
   "source": [
    "gaussian_blur_img = cv2.GaussianBlur(img,(21,21),0)\n",
    "cv2.imshow(\"Bluured Image\",gaussian_blur_img)\n",
    "cv2.waitKey(0)\n",
    "cv2.destroyAllWindows()"
   ]
  },
  {
   "cell_type": "markdown",
   "id": "390de430",
   "metadata": {},
   "source": [
    "# Gray Scale Image"
   ]
  },
  {
   "cell_type": "code",
   "execution_count": 19,
   "id": "e364ed4f",
   "metadata": {},
   "outputs": [],
   "source": [
    "gray_img = cv2.cvtColor(img,cv2.COLOR_BGR2GRAY)\n",
    "cv2.imshow(\"Gray Image\",gray_img)\n",
    "cv2.waitKey(0)\n",
    "cv2.destroyAllWindows()"
   ]
  },
  {
   "cell_type": "markdown",
   "id": "da54324f",
   "metadata": {},
   "source": [
    "# Threshold Image"
   ]
  },
  {
   "cell_type": "code",
   "execution_count": 20,
   "id": "dc555959",
   "metadata": {},
   "outputs": [],
   "source": [
    "threshold_img = cv2.threshold(gray_img,150,255,cv2.THRESH_BINARY)[1]\n",
    "cv2.imshow(\"Threshold Image\",threshold_img)\n",
    "cv2.waitKey(0)\n",
    "cv2.destroyAllWindows()"
   ]
  },
  {
   "cell_type": "markdown",
   "id": "b21c6c5d",
   "metadata": {},
   "source": [
    "# Border Image"
   ]
  },
  {
   "cell_type": "code",
   "execution_count": 21,
   "id": "86618c2e",
   "metadata": {},
   "outputs": [],
   "source": [
    "border_img = cv2.rectangle(img,(5,5),(220,180),(255,0,0),2)\n",
    "cv2.imshow(\"Border\",border_img)\n",
    "cv2.waitKey(0)\n",
    "cv2.destroyAllWindows()"
   ]
  },
  {
   "cell_type": "markdown",
   "id": "3b328d6d",
   "metadata": {},
   "source": [
    "# Video Capture"
   ]
  },
  {
   "cell_type": "code",
   "execution_count": 22,
   "id": "c1fde5e1",
   "metadata": {},
   "outputs": [],
   "source": [
    "import cv2\n",
    "vs = cv2.VideoCapture(0) #Initializing the Camera\n",
    "while True:\n",
    "    img = vs.read()[1]#read from camera\n",
    "    #gray = cv2.cvtColor(img,cv2.COLOR_BGR2GRAY)\n",
    "    #cv2.imshow(\"Video Stream\",gray)\n",
    "    cv2.imshow(\"Video Stream\",img)\n",
    "    key = cv2.waitKey(1) & 0xFF\n",
    "    if key == ord('q'):\n",
    "        break\n",
    "vs.release()\n",
    "cv2.destroyAllWindows()"
   ]
  },
  {
   "cell_type": "markdown",
   "id": "4a230aa3",
   "metadata": {},
   "source": [
    "# Moving Object Detection"
   ]
  },
  {
   "cell_type": "code",
   "execution_count": 23,
   "id": "1c4625ea",
   "metadata": {},
   "outputs": [],
   "source": [
    "import cv2\n",
    "import imutils\n",
    "import time"
   ]
  },
  {
   "cell_type": "code",
   "execution_count": 26,
   "id": "9221eb29",
   "metadata": {
    "scrolled": true
   },
   "outputs": [],
   "source": [
    "cam = cv2.VideoCapture(0)\n",
    "time.sleep(1)\n",
    "first_frame = None\n",
    "area = 500\n",
    "while True:\n",
    "    _,img = cam.read()\n",
    "    text = \"Normal\"\n",
    "    gray_img = cv2.cvtColor(img,cv2.COLOR_BGR2GRAY)\n",
    "    gaussian_img = cv2.GaussianBlur(gray_img,(21,21),0)\n",
    "    if first_frame is None:\n",
    "        first_frame = gaussian_img\n",
    "        continue\n",
    "    img_diff = cv2.absdiff(first_frame,gaussian_img)\n",
    "    threshold_img = cv2.threshold(img_diff,25,255,cv2.THRESH_BINARY)[1]\n",
    "    threshold_img = cv2.dilate(threshold_img,None,iterations = 2)\n",
    "    cnts = cv2.findContours(threshold_img.copy(),cv2.RETR_EXTERNAL,cv2.CHAIN_APPROX_SIMPLE)\n",
    "    cnts = imutils.grab_contours(cnts)\n",
    "    for c in cnts:\n",
    "        if cv2.contourArea(c) < area:\n",
    "            continue\n",
    "        (x,y,w,h) = cv2.boundingRect(c)\n",
    "        cv2.rectangle(img,(x,y),(x+w,y+h),(255,0,0),2)\n",
    "        text = \"Moving Object Detected\"\n",
    "    print(text)\n",
    "    cv2.putText(img,text,(10,20),cv2.FONT_HERSHEY_SIMPLEX,0.5,(0,0,255),2)\n",
    "    cv2.imshow('Camerafeed',img)\n",
    "    key = cv2.waitKey(1) & 0xFF\n",
    "    if key == ord('q'):\n",
    "        break\n",
    "cam.release()\n",
    "cv2.destroyAllWindows()\n",
    "\n",
    "    "
   ]
  },
  {
   "cell_type": "code",
   "execution_count": null,
   "id": "631e103d",
   "metadata": {},
   "outputs": [],
   "source": []
  }
 ],
 "metadata": {
  "kernelspec": {
   "display_name": "Python 3",
   "language": "python",
   "name": "python3"
  }
 },
 "nbformat": 4,
 "nbformat_minor": 5
}
